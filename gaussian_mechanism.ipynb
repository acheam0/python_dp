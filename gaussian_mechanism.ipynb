{
 "cells": [
  {
   "cell_type": "markdown",
   "id": "112c2ca0",
   "metadata": {},
   "source": [
    "# Gaussian mechanism PLRV\n",
    "\n",
    "By [Armaan Bhojwani](https://armaanb.net) under [Praneeth Vepakomma](https://praneeth.mit.edu/)\n",
    "\n",
    "### Preface\n",
    "This notebook features the following differentially private operations utilizing [Google's Differential Privacy Accounting library](https://github.com/google/differential-privacy/tree/main/python).\n",
    "\n",
    "- Gaussian mechanism\n",
    "    - Privacy loss random variable\n",
    "    - Privacy loss distribution\n",
    "    - Observations 1, 2, 3 from [Google Privacy Loss Distributions paper](https://github.com/google/differential-privacy/blob/main/common_docs/Privacy_Loss_Distributions.pdf)\n",
    "\n",
    "### Dependencies\n",
    "- dp_accounting\n",
    "- matplotlib\n",
    "- scipy\n",
    "- tqdm\n",
    "\n",
    "This notebook makes extensive use of Google's `dp_accounting` library. To install, obtain the [sources here](https://github.com/google/differential-privacy/tree/main/python) or from the included git submodule (the submodule is in the `External/` directory, and the sources are in the `External/python/dp_accounting` subdirectory), and install using setuptools (`python3 setup.py install`).\n",
    "\n",
    "### References\n",
    "- https://programming-dp.com/ch6.html\n",
    "- https://desfontain.es/privacy/almost-differential-privacy.html\n",
    "- https://desfontain.es/privacy/gaussian-noise.html\n",
    "- https://github.com/google/differential-privacy/tree/main/python\n",
    "- https://github.com/google/differential-privacy/blob/main/common_docs/Privacy_Loss_Distributions.pdf\n",
    "\n",
    "    \n",
    "### Status\n",
    "- Complete"
   ]
  },
  {
   "cell_type": "markdown",
   "id": "f9940fdd",
   "metadata": {},
   "source": [
    "## Setup\n",
    "\n",
    "`epsilon` and `delta` are the standard DP parameters. `sensitivity` is the sensitivity of the particular function that you want to test. See [Programming Differential Privacy Chapter 5](https://programming-dp.com/ch5.html#calculating-sensitivity)\n",
    "\n",
    "### Parameters"
   ]
  },
  {
   "cell_type": "code",
   "execution_count": 1,
   "id": "e4f4beed",
   "metadata": {},
   "outputs": [],
   "source": [
    "epsilon = 3     # Privacy level\n",
    "delta = 10e-7   # Probability of failure. Should be much less than (length of dataset)^-1\n",
    "sensitivity = 2 # Sensitivity of function"
   ]
  },
  {
   "cell_type": "markdown",
   "id": "ffa5bfc2",
   "metadata": {},
   "source": [
    "### Imports"
   ]
  },
  {
   "cell_type": "code",
   "execution_count": 2,
   "id": "a6129fcd",
   "metadata": {},
   "outputs": [],
   "source": [
    "from dp_accounting.pld import privacy_loss_distribution as pld\n",
    "from dp_accounting.pld import privacy_loss_mechanism as plm\n",
    "\n",
    "import matplotlib.pyplot as plt\n",
    "import numpy as np\n",
    "from tqdm.notebook import tqdm\n",
    "\n",
    "from math import e\n",
    "import math"
   ]
  },
  {
   "cell_type": "markdown",
   "id": "8b192e1a",
   "metadata": {},
   "source": [
    "## Privacy loss analysis\n",
    "### Fitting sigma\n",
    "\n",
    "The `dp_accounting` library expects you to provide the sensitivity of the function and the standard deviation of the gaussian mechanism to use. This doesn't help us much as we would like to work the other way around, providing the sensitivity of the mechanism, and our privacy tolerances (epsilon and delta) and let the algorithm choose the best standard deviation to use. This function finds the optimal standard deviation to use in the gaussian function while satisfying the given privacy parameters.\n",
    "\n",
    "A potential replacement for this function is the `calibrate_dp_mechanism` function from the dp_accounting library."
   ]
  },
  {
   "cell_type": "code",
   "execution_count": 3,
   "id": "5ef86f2b",
   "metadata": {},
   "outputs": [],
   "source": [
    "def fit_sigma_from_params(delta, epsilon, sensitivity, verbose=False):\n",
    "    \"\"\" Find the ideal sigma value given privacy parameters.\n",
    "    \n",
    "    This function iteratively increases the standard deviation of a gaussian\n",
    "    PLD until it finds a value that creates a PLD that meets the given privacy\n",
    "    parameters. It takes a first pass refining until it validates epsilon, \n",
    "    then it takes a second pass for delta.\n",
    "    \n",
    "    A potential replacement for this function is the calibrate_dp_mechanism\n",
    "    function from the dp_accounting library.\n",
    "    \n",
    "    Inputs:\n",
    "        delta: delta value to use\n",
    "        epsilon: epsilon value to use\n",
    "        sensitivity: sensitivity of mechanism\n",
    "        \n",
    "    Output:\n",
    "        Optimal standard deviation of the gaussian mechanism\n",
    "    \"\"\"\n",
    "\n",
    "    def find_epsilon(sigma, delta, sensitivity):\n",
    "        gauss_pld = pld.from_gaussian_mechanism(\n",
    "            sigma, sensitivity=sensitivity, value_discretization_interval=0.01)\n",
    "        epsilon = gauss_pld.get_epsilon_for_delta(delta)\n",
    "        return epsilon\n",
    "\n",
    "    def find_delta(sigma, epsilon, sensitivity):\n",
    "        gauss_pld = pld.from_gaussian_mechanism(\n",
    "            sigma, sensitivity=sensitivity, value_discretization_interval=0.01)\n",
    "        epsilon = gauss_pld.get_delta_for_epsilon(epsilon)\n",
    "        return epsilon\n",
    "\n",
    "    # While loop fitting epsilon\n",
    "    sigma = 1\n",
    "    test_epsilon = 0\n",
    "    with tqdm() as t:\n",
    "        while not math.isclose(test_epsilon, epsilon):\n",
    "            test_epsilon = find_epsilon(sigma, delta, sensitivity)\n",
    "            epsilon_range = test_epsilon - epsilon\n",
    "            sigma += (epsilon_range / 4)\n",
    "\n",
    "            t.update()\n",
    "\n",
    "    if verbose: print(f\"(Epsilon layer) Fit to sigma of: {sigma}\")\n",
    "\n",
    "    # Do-while loop fitting delta\n",
    "    with tqdm() as t:\n",
    "        cond = True\n",
    "        while cond:\n",
    "            test_delta = find_delta(sigma, epsilon, sensitivity)\n",
    "            sigma += 10e-8\n",
    "            cond = test_delta >= delta\n",
    "\n",
    "            t.update()\n",
    "\n",
    "    if verbose: print(f\"(Delta layer) Fit to sigma of: {sigma}\")\n",
    "\n",
    "    return sigma\n",
    "\n",
    "\n",
    "# sigma = fit_sigma_from_params(delta, epsilon, sensitivity, verbose=True)"
   ]
  },
  {
   "cell_type": "markdown",
   "id": "4b0a9fd2",
   "metadata": {},
   "source": [
    "### Privacy loss distribution functions"
   ]
  },
  {
   "cell_type": "code",
   "execution_count": 4,
   "id": "4f66b640",
   "metadata": {},
   "outputs": [
    {
     "data": {
      "application/vnd.jupyter.widget-view+json": {
       "model_id": "a5e4e242ec154f93a107d482b8c192ad",
       "version_major": 2,
       "version_minor": 0
      },
      "text/plain": [
       "0it [00:00, ?it/s]"
      ]
     },
     "metadata": {},
     "output_type": "display_data"
    },
    {
     "name": "stdout",
     "output_type": "stream",
     "text": [
      "(Epsilon layer) Fit to sigma of: 3.087722833683524\n"
     ]
    },
    {
     "data": {
      "application/vnd.jupyter.widget-view+json": {
       "model_id": "8d1989247d75415aa2b8d42aefc1a547",
       "version_major": 2,
       "version_minor": 0
      },
      "text/plain": [
       "0it [00:00, ?it/s]"
      ]
     },
     "metadata": {},
     "output_type": "display_data"
    },
    {
     "name": "stdout",
     "output_type": "stream",
     "text": [
      "(Delta layer) Fit to sigma of: 3.0877230336835235\n"
     ]
    },
    {
     "data": {
      "image/png": "[encoded data removed]",
      "text/plain": [
       "<Figure size 640x480 with 1 Axes>"
      ]
     },
     "metadata": {},
     "output_type": "display_data"
    }
   ],
   "source": [
    "def make_gauss_pld(sigma, sensitivity):\n",
    "    \"\"\" Makes a guassian PLD from standard deviation\n",
    "    \n",
    "    Inputs:\n",
    "        sigma: standard deviation of gaussian mechanism\n",
    "        sensitivity: sensitivity of mechanism\n",
    "        \n",
    "    Output:\n",
    "        dp_accounting.pld.PrivacyLossDistribution object\n",
    "    \"\"\"\n",
    "\n",
    "    return pld.from_gaussian_mechanism(sigma,\n",
    "                                       sensitivity=sensitivity,\n",
    "                                       value_discretization_interval=0.001)\n",
    "\n",
    "\n",
    "def make_gauss_pld_from_params(delta,\n",
    "                               epsilon,\n",
    "                               sensitivity,\n",
    "                               verbose=False,\n",
    "                               *args):\n",
    "    \"\"\" Makes a guassian PLD from privacy parameters\n",
    "    \n",
    "    Inputs:\n",
    "        delta: delta value to use\n",
    "        epsilon: epsilon to use\n",
    "        sensitivity: sensitivity of mechanism\n",
    "        \n",
    "    Output:\n",
    "        dp_accounting.pld.PrivacyLossDistribution object\n",
    "    \"\"\"\n",
    "\n",
    "    sigma = fit_sigma_from_params(delta, epsilon, sensitivity, verbose=verbose)\n",
    "    return make_gauss_pld(sigma, sensitivity, *args)\n",
    "\n",
    "\n",
    "def analyze_gauss_pld(gauss_pld, color='blue', verbose=False):\n",
    "    \"\"\" Create a PMF from a PLD object\n",
    "    \n",
    "    Inputs:\n",
    "        gauss_pld: dp_accounting.pld.PrivacyLossDistribution object\n",
    "        color: color to use in plots\n",
    "        verbose: print detail and charts\n",
    "        \n",
    "    Output:\n",
    "        Returns (x, y) PMF of PLD\n",
    "        If verbose, shows a matplotlib chart of the data\n",
    "    \"\"\"\n",
    "    gauss_pmf = gauss_pld._pmf_add.to_dense_pmf()\n",
    "\n",
    "    y = gauss_pmf._probs\n",
    "    y = (y - y.min()) / (y - y.min()).sum()  # Normalize\n",
    "\n",
    "    x = [gauss_pmf._discretization * gauss_pmf._lower_loss]\n",
    "    [x.append(gauss_pmf._discretization + x[i - 1]) for i in range(1, len(y))]\n",
    "\n",
    "    if verbose:\n",
    "        plt.title(f\"PLD of specified Gaussian Mechanism\")\n",
    "        plt.plot(x, y, c=color)\n",
    "        plt.axvline(epsilon, c=color, linestyle='dotted')\n",
    "        plt.axvline(-epsilon, c=color, linestyle='dotted')\n",
    "        plt.show()\n",
    "\n",
    "    return (x, y)\n",
    "\n",
    "\n",
    "gauss_pld = make_gauss_pld_from_params(delta,\n",
    "                                       epsilon,\n",
    "                                       sensitivity,\n",
    "                                       verbose=True)\n",
    "x, y = analyze_gauss_pld(gauss_pld, verbose=True)"
   ]
  },
  {
   "cell_type": "markdown",
   "id": "58b8e9b9",
   "metadata": {},
   "source": [
    "### Sampling from the PLD"
   ]
  },
  {
   "cell_type": "code",
   "execution_count": 5,
   "id": "8863591f",
   "metadata": {},
   "outputs": [
    {
     "data": {
      "image/png": "[encoded data removed]",
      "text/plain": [
       "<Figure size 640x480 with 1 Axes>"
      ]
     },
     "metadata": {},
     "output_type": "display_data"
    }
   ],
   "source": [
    "def sample_from_pmf(data, num_samples=1000000, num_bins=50, verbose=False):\n",
    "    \"\"\" Draw samples from a PMF\n",
    "    \n",
    "    Inputs:\n",
    "        data: PMF in the form of (x, y)\n",
    "        num_samples: number of samples to draw\n",
    "        num_bins: number of bins to draw in histogram\n",
    "        verbose: print details and plots\n",
    "        \n",
    "    Output:\n",
    "        array of samples\n",
    "        If verbose, matplotlib histogram\n",
    "    \"\"\"\n",
    "    rng = np.random.default_rng()\n",
    "    choices = rng.choice(data[0], num_samples, p=data[1])\n",
    "\n",
    "    if verbose:\n",
    "        plt.title(\"Samples from PLD\")\n",
    "        plt.hist(choices, bins=num_bins)\n",
    "        plt.show()\n",
    "\n",
    "    return choices\n",
    "\n",
    "\n",
    "_ = sample_from_pmf((x, y), verbose=True)"
   ]
  },
  {
   "cell_type": "markdown",
   "id": "8f23c674",
   "metadata": {},
   "source": [
    "### Google paper observations\n",
    "Empirical testing of the observations in [this paper](https://github.com/google/differential-privacy/blob/main/common_docs/Privacy_Loss_Distributions.pdf)\n",
    "\n",
    "#### Observation 1\n",
    "Epsilon-hockey stick divergence is less than or equal to delta"
   ]
  },
  {
   "cell_type": "code",
   "execution_count": 6,
   "id": "28b65fc1",
   "metadata": {},
   "outputs": [
    {
     "name": "stdout",
     "output_type": "stream",
     "text": [
      "Epsilon-Hockey Stick Div: 9.999984507048863e-07\n",
      "Delta:                    1e-06\n",
      "Observation 1 true?:      True\n"
     ]
    }
   ],
   "source": [
    "EHSD = gauss_pld.get_delta_for_epsilon(epsilon)\n",
    "\n",
    "print(f\"Epsilon-Hockey Stick Div: {EHSD}\")\n",
    "print(f\"Delta:                    {delta}\")\n",
    "print(f\"Observation 1 true?:      {EHSD <= delta}\")"
   ]
  },
  {
   "cell_type": "markdown",
   "id": "945a5af4",
   "metadata": {},
   "source": [
    "#### Observation 2\n",
    "Epsilon-hockey stick divergence is equal to the given equation"
   ]
  },
  {
   "cell_type": "code",
   "execution_count": 7,
   "id": "eef91f41",
   "metadata": {},
   "outputs": [
    {
     "data": {
      "application/vnd.jupyter.widget-view+json": {
       "model_id": "23b0ec7170a341f2bc9fe43f40f140d1",
       "version_major": 2,
       "version_minor": 0
      },
      "text/plain": [
       "  0%|          | 0/1000000 [00:00<?, ?it/s]"
      ]
     },
     "metadata": {},
     "output_type": "display_data"
    },
    {
     "name": "stdout",
     "output_type": "stream",
     "text": [
      "Obs. 2 result:                 1.055938431879598e-06\n",
      "Epsilon-Hockey Stick Div:      9.999984507048863e-07\n",
      "Obs. 2 true? (result == EHSD): True\n"
     ]
    }
   ],
   "source": [
    "num_samples = 1000000\n",
    "\n",
    "\n",
    "def observation2(x, y, num_samples=1000000):\n",
    "    obs = []\n",
    "    rng = np.random.default_rng()\n",
    "    samples = rng.choice(x, num_samples, p=y)\n",
    "    for y in tqdm(samples):\n",
    "        # eq is the equation given in the paper\n",
    "        eq = 1 - (e**(epsilon - y))\n",
    "        obs.append(eq if eq > 0 else 0)\n",
    "\n",
    "    return np.mean(obs)  # Expected value\n",
    "\n",
    "\n",
    "obs2 = observation2(x, y, num_samples)\n",
    "cond = math.isclose(obs2, EHSD, abs_tol=10e-7)\n",
    "\n",
    "print(f\"Obs. 2 result:                 {obs2}\")\n",
    "print(f\"Epsilon-Hockey Stick Div:      {EHSD}\")\n",
    "print(f\"Obs. 2 true? (result == EHSD): {cond}\")"
   ]
  },
  {
   "cell_type": "markdown",
   "id": "8e2155be",
   "metadata": {},
   "source": [
    "#### Observation 3\n",
    "Composing mechanisms results in the convolution of their respective PLRVs. In this case, for ease, we self compose the mechanism.\n",
    "\n",
    "By observation 3, the two histograms should be roughly equal."
   ]
  },
  {
   "cell_type": "code",
   "execution_count": 8,
   "id": "339a2b2d",
   "metadata": {},
   "outputs": [
    {
     "data": {
      "image/png": "[encoded data removed]",
      "text/plain": [
       "<Figure size 640x480 with 1 Axes>"
      ]
     },
     "metadata": {},
     "output_type": "display_data"
    }
   ],
   "source": [
    "# Convolution (Definition 2)\n",
    "x1 = sample_from_pmf((x, y)) + sample_from_pmf((x, y))\n",
    "\n",
    "# Composition\n",
    "mech2 = gauss_pld.compose(gauss_pld)\n",
    "x2 = sample_from_pmf(analyze_gauss_pld(mech2))\n",
    "\n",
    "# They're the same! (Observation 3)\n",
    "plt.hist(x1, bins=100, label=\"Convolution\")\n",
    "plt.hist(x2, bins=100, alpha=0.5, label=\"Composition\")\n",
    "plt.title(\"Convolution vs Composition PLDs\")\n",
    "plt.legend()\n",
    "plt.show()"
   ]
  }
 ],
 "metadata": {
  "kernelspec": {
   "display_name": "Python 3 (ipykernel)",
   "language": "python",
   "name": "python3"
  },
  "language_info": {
   "codemirror_mode": {
    "name": "ipython",
    "version": 3
   },
   "file_extension": ".py",
   "mimetype": "text/x-python",
   "name": "python",
   "nbconvert_exporter": "python",
   "pygments_lexer": "ipython3",
   "version": "3.9.7"
  }
 },
 "nbformat": 4,
 "nbformat_minor": 5
}
