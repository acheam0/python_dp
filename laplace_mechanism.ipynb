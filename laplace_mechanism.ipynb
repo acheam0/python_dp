{
 "cells": [
  {
   "cell_type": "markdown",
   "id": "6b9078e7",
   "metadata": {},
   "source": [
    "# Laplace Differential Privacy\n",
    "\n",
    "By [Armaan Bhojwani](https://armaanb.net) under [Praneeth Vepakomma](https://praneeth.mit.edu/)\n",
    "\n",
    "This notebook features the following differentially private operations on 1 dimensional dataset of ints with set bounds.\n",
    "- Laplace Mechanism:\n",
    "    - Sum\n",
    "    - Count\n",
    "    - Mean\n",
    "    - Histogram\n",
    "    - Privacy Loss Random Variable\n",
    "    - Privacy Loss Distribution\n",
    "    \n",
    "For operations on a dataset without set bounds (utilizing clipping), see laplace_example_class_height.ipynb\n",
    "    \n",
    "### References\n",
    "- https://programming-dp.com\n",
    "- B. Pejó and D. Desfontaines, Guide to Differential Privacy Modifications\n",
    "- https://github.com/google/differential-privacy/blob/main/common_docs/Privacy_Loss_Distributions.pdf\n",
    "\n",
    "### Status\n",
    "- Complete"
   ]
  },
  {
   "cell_type": "markdown",
   "id": "5db8a18d",
   "metadata": {},
   "source": [
    "## Parameters"
   ]
  },
  {
   "cell_type": "code",
   "execution_count": 1,
   "id": "88f65cb9",
   "metadata": {},
   "outputs": [],
   "source": [
    "# Privacy\n",
    "epsilon = 1\n",
    "\n",
    "# Data\n",
    "data_len = 150   # Length of dataset\n",
    "data_low = 0     # Lowest value of dataset\n",
    "data_high = 99   # Highest value of dataset"
   ]
  },
  {
   "cell_type": "markdown",
   "id": "c445c076",
   "metadata": {},
   "source": [
    "## Build the dataset\n",
    "Create dataset of ints that we can work with"
   ]
  },
  {
   "cell_type": "code",
   "execution_count": 2,
   "id": "584e2eba",
   "metadata": {},
   "outputs": [],
   "source": [
    "import numpy as np\n",
    "\n",
    "# Initialize Numpy RNG\n",
    "rng = np.random.default_rng()\n",
    "\n",
    "# Increment data_high so that it includes the value specified\n",
    "data_high += 1\n",
    "\n",
    "# Create dataset as defined by above parameters\n",
    "x = rng.integers(low=data_low, high=data_high, size=(data_len))"
   ]
  },
  {
   "cell_type": "markdown",
   "id": "dcf7d907",
   "metadata": {},
   "source": [
    "## Helper functions"
   ]
  },
  {
   "cell_type": "code",
   "execution_count": 3,
   "id": "95edf89e",
   "metadata": {},
   "outputs": [],
   "source": [
    "import math\n",
    "from scipy.stats import laplace\n",
    "from common import *\n",
    "\n",
    "def laplace_noise(epsilon, sensitivity):\n",
    "    \"\"\" Generate laplace noise given parameters\n",
    "    Inputs:\n",
    "        epsilon: epsilon value to use\n",
    "        sensitivity: sensivitity of the mechanism\n",
    "    Output:\n",
    "        laplace noise (float) with specified parameters\n",
    "    \"\"\"\n",
    "\n",
    "    return rng.laplace(scale=sensitivity / epsilon)\n",
    "\n",
    "\n",
    "def laplace_mech(x, mech, epsilon, sensitivity, verbose=False):\n",
    "    \"\"\" Calculate a differentially private result using laplace noise\n",
    "    Inputs:\n",
    "        x: input dataset\n",
    "        mech: function to run on input, should take single parameter (x)\n",
    "        epsilon: epsilon value to use\n",
    "        sensitivity: sensitivity to use\n",
    "        verbose: print detail\n",
    "    Output:\n",
    "        (mech(x), mech(x) + laplace noise)\n",
    "    \"\"\"\n",
    "    mech_x = mech(x)\n",
    "    noise = laplace_noise(epsilon, sensitivity)\n",
    "\n",
    "    # We round here so that the result with added noise is still an int, like\n",
    "    # the input. This is do-able because of DP's post-processing properties\n",
    "    mech_X = mech_x + round(noise)\n",
    "\n",
    "    if verbose:\n",
    "        print(f\"Non-private {mech.__name__}: {mech_x}\")\n",
    "        print(f\"Private {mech.__name__}:     {mech_X}\")\n",
    "\n",
    "    return (mech_x, mech_X)"
   ]
  },
  {
   "cell_type": "markdown",
   "id": "f445ac2c",
   "metadata": {},
   "source": [
    "## Query implementations\n",
    "### Sum\n",
    "Because the data is arbitrary and has publically-known bounds we can manually set the sensitivity to the data's range, however if the upper bound of the data was unknown, we should use a differentially private method of calculating the sensitivity, such as clipping. See the `laplace_example_class_height.ipynb` notebook for an example of this."
   ]
  },
  {
   "cell_type": "code",
   "execution_count": 4,
   "id": "d267ca84",
   "metadata": {},
   "outputs": [],
   "source": [
    "sum_sensitivity = data_high - data_low\n",
    "\n",
    "sum_x, sum_X = laplace_mech(x, np.sum, epsilon, sum_sensitivity, verbose=True)"
   ]
  },
  {
   "cell_type": "markdown",
   "id": "ac4edb3c",
   "metadata": {},
   "source": [
    "### Size\n",
    "\n",
    "The most that the sensitivity could be is 1, because we are doing a count query, and thus when adding or removing a record from the dataset, the most the result can change is 1."
   ]
  },
  {
   "cell_type": "code",
   "execution_count": 5,
   "id": "a98163e4",
   "metadata": {
    "scrolled": false
   },
   "outputs": [],
   "source": [
    "size_sensitivity = 1\n",
    "\n",
    "size_x, size_X = laplace_mech(x, np.size, epsilon, size_sensitivity, verbose=True)"
   ]
  },
  {
   "cell_type": "markdown",
   "id": "332f4872",
   "metadata": {},
   "source": [
    "### Mean\n",
    "We can build off of the sum and to find the mean. It is important to apply DP to each of the individual steps of finding the mean, as opposed to finding the mean and then applying DP."
   ]
  },
  {
   "cell_type": "code",
   "execution_count": 6,
   "id": "96d2d36d",
   "metadata": {},
   "outputs": [],
   "source": [
    "# Find non-private mean\n",
    "mean_x = sum_x / size_x\n",
    "\n",
    "# Find differentially private mean\n",
    "mean_X = sum_X / size_X\n",
    "\n",
    "print(f\"Original mean: {mean_x}\")\n",
    "\n",
    "# Round private mean to same number of decimal places as original mean\n",
    "print(f\"Private mean:  {round(mean_X, len(str(mean_x).split('.')[1]))}\")"
   ]
  },
  {
   "cell_type": "markdown",
   "id": "8fe66045",
   "metadata": {},
   "source": [
    "### Differentially private histogram"
   ]
  },
  {
   "cell_type": "code",
   "execution_count": 7,
   "id": "39a24954",
   "metadata": {
    "scrolled": false
   },
   "outputs": [],
   "source": [
    "import matplotlib.pyplot as plt\n",
    "from matplotlib import ticker\n",
    "\n",
    "# Parameters\n",
    "num_bins = 10\n",
    "\n",
    "# Generate non-private histogram\n",
    "x_counts, bins = np.histogram(x, bins=num_bins)\n",
    "\n",
    "# Recount the bins in a private way\n",
    "X_counts = [laplace_mech(i, lambda x: x, epsilon, 1)[1] for i in x_counts]\n",
    "\n",
    "\n",
    "def plot_hist(bins, weights):\n",
    "    \"\"\" Styles DP histogram\n",
    "    Inputs:\n",
    "        bins: array of bin boundaries to use\n",
    "        weights: counts for each bin\n",
    "    Output:\n",
    "        Matplotlib plot ready to be plotted. Add whatever extra styling you \n",
    "        want, then call plt.show().\n",
    "    \"\"\"\n",
    "    \n",
    "    ax = plt.gca()\n",
    "\n",
    "    # Set Y-Axis to reasonable bounds\n",
    "    if min(weights) > 20:\n",
    "        ax.set_ylim([0.9 * min(weights), max(weights) + 0.1 * min(weights)])\n",
    "    else:\n",
    "        ax.set_ylim([0, max(weights) + 2])\n",
    "        ax.set_yticks(\n",
    "            [i for i in range(int(max(weights)) + 2) if (i % 2 == 0)])\n",
    "\n",
    "    # Set axis ticks\n",
    "    ax.yaxis.set_minor_locator(ticker.AutoMinorLocator())\n",
    "    plt.xticks(bins)\n",
    "\n",
    "    # Add vertical lines between bars\n",
    "    [plt.axvline(x=i, color=\"w\") for i in bins]\n",
    "\n",
    "    # Add counts to each bar\n",
    "    centers = [(bins[i] + bins[i + 1]) / 2 for i in range(np.size(weights))]\n",
    "    for yc, xc in zip(weights, centers):\n",
    "        ax.text(xc, yc + 0.5, \"%d\" % yc, ha=\"center\")\n",
    "\n",
    "    # Plot\n",
    "    plt.hist(bins[:-1], bins, weights=weights)\n",
    "\n",
    "\n",
    "# Plot non-private histogram\n",
    "plt.title(\"Non-private histogram\")\n",
    "plot_hist(bins, x_counts)\n",
    "plt.show()\n",
    "\n",
    "# Plot private histogram\n",
    "plt.title(\"Private histogram\")\n",
    "plot_hist(bins, X_counts)\n",
    "plt.show()"
   ]
  },
  {
   "cell_type": "markdown",
   "id": "597577b2",
   "metadata": {},
   "source": [
    "## Quantifying privacy loss"
   ]
  },
  {
   "cell_type": "markdown",
   "id": "1f646ef3",
   "metadata": {},
   "source": [
    "### Calculating privacy loss random variable (PLRV)"
   ]
  },
  {
   "cell_type": "code",
   "execution_count": 8,
   "id": "fc945135",
   "metadata": {},
   "outputs": [],
   "source": [
    "from tqdm.notebook import tqdm\n",
    "\n",
    "\n",
    "def calc_PLRV(x, mech, epsilon, sensitivity, num_samples=1, verbose=False):\n",
    "    \"\"\" Calculates the privacy loss random variable of a laplace DP mechanism\n",
    "    Inputs:\n",
    "        x: dataset to operate on\n",
    "        mech: query to apply on x\n",
    "        epsilon: epsilon value to use\n",
    "        sensitivity: mechanism sensitivity\n",
    "        num_samples: how many time to sample to PLRV\n",
    "        verbose: print detail\n",
    "    Output:\n",
    "        an array of samples of the PLRV with length num_samples\n",
    "    \"\"\"\n",
    "    \n",
    "    # Calculate original and private mech(x)\n",
    "    if verbose: print(\"On original database:\")\n",
    "    mech_x, mech_X = laplace_mech(x,\n",
    "                                  mech,\n",
    "                                  epsilon,\n",
    "                                  sensitivity,\n",
    "                                  verbose=verbose)\n",
    "\n",
    "    output = []\n",
    "\n",
    "    for i in tqdm(range(num_samples), disable=(num_samples < 5000)):\n",
    "        # Calculate original and private mech(x) on neighbouring dataset\n",
    "        x2 = create_neighbour(x, verbose=verbose)\n",
    "        if verbose: print(\"On neighbouring database:\")\n",
    "        mech_x2, mech_X2 = laplace_mech(x2,\n",
    "                                        mech,\n",
    "                                        epsilon,\n",
    "                                        sensitivity,\n",
    "                                        verbose=verbose)\n",
    "\n",
    "        # Calculate PLRV\n",
    "        # See section 3.1 of Google paper\n",
    "        delta = abs(mech_x - mech_x2)\n",
    "        delta_tilde = delta / (sensitivity / epsilon)\n",
    "\n",
    "        w = laplace.rvs(0, 1)\n",
    "        if w <= 0:\n",
    "            output.append(delta_tilde)\n",
    "        elif w >= delta_tilde:\n",
    "            output.append(-delta_tilde)\n",
    "        elif 0 < w and w < delta_tilde:\n",
    "            output.append(delta_tilde - 2 * w)\n",
    "\n",
    "    return output\n",
    "\n",
    "\n",
    "size_plrv = calc_PLRV(x, np.size, epsilon, size_sensitivity, 1, verbose=True)\n",
    "print(f\"The PLRV of a size query is: {size_plrv}\")"
   ]
  },
  {
   "cell_type": "markdown",
   "id": "921727f2",
   "metadata": {},
   "source": [
    "### Plotting privacy loss distribution (PLD)"
   ]
  },
  {
   "cell_type": "code",
   "execution_count": 9,
   "id": "112aae28",
   "metadata": {},
   "outputs": [],
   "source": [
    "# Parameters\n",
    "num_samples = 20000\n",
    "num_bins = 50\n",
    "\n",
    "def plot_PLD(*plrv_func_args):\n",
    "    \"\"\" Plots the PLD\n",
    "    Inputs:\n",
    "        plrv_func_args: arguments to pass to calc_PLRV function\n",
    "    Output:\n",
    "        Matplotlib plots and prints\n",
    "    \"\"\"\n",
    "    data = calc_PLRV(*plrv_func_args)\n",
    "    plt.hist(data, bins=num_bins)\n",
    "    plt.title(\"Privacy loss distribution histogram for query\")\n",
    "    plt.show()\n",
    "\n",
    "    plt.hist(data, bins=500, cumulative=True, histtype='step')\n",
    "    plt.title(\"Privacy loss distribution CDF for query\")\n",
    "    plt.show()\n",
    "\n",
    "    abs_data = [abs(i) for i in data]\n",
    "    expected = np.mean(abs_data)\n",
    "    print(f\"The expected absolute value of the PLRV is {expected}\")"
   ]
  },
  {
   "cell_type": "markdown",
   "id": "b062b4dc",
   "metadata": {},
   "source": [
    "### PLD of size query"
   ]
  },
  {
   "cell_type": "code",
   "execution_count": 10,
   "id": "efa65d51",
   "metadata": {},
   "outputs": [],
   "source": [
    "plot_PLD(x, np.size, epsilon, size_sensitivity, num_samples)"
   ]
  }
 ],
 "metadata": {
  "kernelspec": {
   "display_name": "Python 3 (ipykernel)",
   "language": "python",
   "name": "python3"
  },
  "language_info": {
   "codemirror_mode": {
    "name": "ipython",
    "version": 3
   },
   "file_extension": ".py",
   "mimetype": "text/x-python",
   "name": "python",
   "nbconvert_exporter": "python",
   "pygments_lexer": "ipython3",
   "version": "3.9.7"
  }
 },
 "nbformat": 4,
 "nbformat_minor": 5
}
